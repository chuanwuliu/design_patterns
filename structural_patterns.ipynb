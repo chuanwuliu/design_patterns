{
 "cells": [
  {
   "cell_type": "markdown",
   "metadata": {},
   "source": [
    "# Structural Patterns\n",
    "Structural patterns explain how to assemble objects and classes into larger structures, while keeping this structures flexible and efficient."
   ]
  },
  {
   "cell_type": "markdown",
   "metadata": {},
   "source": [
    "## Adapter:\n",
    "Adapter is a structural design pattern that allows objects with incompatible interfaces to collaborate. An adapter object is a special object that converts the interface of one object so that another object can understand it."
   ]
  },
  {
   "cell_type": "code",
   "execution_count": 1,
   "metadata": {},
   "outputs": [
    {
     "name": "stdout",
     "output_type": "stream",
     "text": [
      "User information\n",
      "Student Information\n",
      "Staff Information\n"
     ]
    }
   ],
   "source": [
    "# Example of adapter pattern\n",
    "class User():\n",
    "    \"\"\"\n",
    "    General user interface\n",
    "    \"\"\"\n",
    "\n",
    "    def user_info(self) -> str:\n",
    "        return \"User information\"\n",
    "\n",
    "\n",
    "class Student():\n",
    "    \"\"\"Student System interface\"\"\"\n",
    "    def student_info(self) -> str:\n",
    "        return \"Student Information\"\n",
    "\n",
    "\n",
    "class StudentAdapter(User):\n",
    "    \"\"\"Student System Adapter\"\"\"\n",
    "    def __init__(self, system) -> None:\n",
    "        self.system = system\n",
    "\n",
    "    def user_info(self) -> str:\n",
    "        return self.system.student_info()\n",
    "\n",
    "    \n",
    "class Staff():\n",
    "    \"\"\"Staff system interface\"\"\"\n",
    "    def staff_info(self) -> str:\n",
    "        return \"Staff Information\"\n",
    "\n",
    "\n",
    "class StaffAdapter(User):\n",
    "    \"\"\"Staff system adapter\"\"\"\n",
    "    def __init__(self, system) -> None:\n",
    "        self.system = system\n",
    "\n",
    "    def user_info(self) -> str:\n",
    "        return self.system.staff_info()    \n",
    "\n",
    "\n",
    "def print_user_info(user):\n",
    "    print(user.user_info())\n",
    "    \n",
    "    \n",
    "print_user_info(User())\n",
    "print_user_info(StudentAdapter(Student()))\n",
    "print_user_info(StaffAdapter(Staff()))"
   ]
  },
  {
   "cell_type": "markdown",
   "metadata": {},
   "source": [
    "Applicability:\n",
    "\n",
    " * Use the Adapter class when you want to use some existing class, but its interface isn’t compatible with the rest of your code.\n",
    "\n",
    " * The Adapter pattern lets you create a middle-layer class that serves as a translator between your code and a legacy class, a 3rd-party class or any other class with a weird interface.\n",
    "\n"
   ]
  },
  {
   "cell_type": "markdown",
   "metadata": {},
   "source": [
    " ## Proxy:\n",
    "A proxy acts as a substitute for a real service object used by a client. Proxy receives client requests, does some work (access control, caching, etc.) and then passes request to a service object. "
   ]
  },
  {
   "cell_type": "code",
   "execution_count": 2,
   "metadata": {},
   "outputs": [
    {
     "name": "stdout",
     "output_type": "stream",
     "text": [
      "=== Direct request ===\n",
      "Doing real request\n",
      "\n",
      "\n",
      "=== Request via proxy ===\n",
      "Proxy: Checking access for a real request.\n",
      "Doing real request\n",
      "Proxy: Logging the request\n"
     ]
    }
   ],
   "source": [
    "# Example of proxy pattern\n",
    "class Subject():\n",
    "    def request(self):\n",
    "        pass\n",
    "\n",
    "    \n",
    "class RealSubject(Subject):\n",
    "    def request(self):\n",
    "        print('Doing real request')\n",
    "\n",
    "\n",
    "class Proxy(Subject):\n",
    "    \"\"\"\n",
    "    The Proxy has an interface identical to the RealSubject.\n",
    "    \"\"\"\n",
    "\n",
    "    def __init__(self, real_subject):\n",
    "        self._real_subject = real_subject\n",
    "\n",
    "    def request(self):\n",
    "        if self.check_access():\n",
    "            self._real_subject.request()\n",
    "            self.log_access()\n",
    "        else:\n",
    "            raise PermissionError('Not permitted for this request.')\n",
    "            \n",
    "    def check_access(self):\n",
    "        print(\"Proxy: Checking access for a real request.\")\n",
    "        return True\n",
    "\n",
    "    def log_access(self):\n",
    "        print(\"Proxy: Logging the request\")\n",
    "\n",
    "\n",
    "if __name__ == \"__main__\":\n",
    "    print('=== Direct request ===')\n",
    "    subject = RealSubject()\n",
    "    subject.request()\n",
    "    print('\\n')\n",
    "    \n",
    "    print('=== Request via proxy ===')\n",
    "    real_subject = RealSubject()\n",
    "    subject = Proxy(real_subject)\n",
    "    subject.request()"
   ]
  },
  {
   "cell_type": "markdown",
   "metadata": {},
   "source": [
    "### Facade\n",
    "A facade is an object that serves as a front-facing interface masking more complex underlying or structural code.\n",
    "\n",
    "  * To make a complex subsystem easier to use, a simple interface should be provided for a set of interfaces in the subsystem.\n",
    "  * The dependencies on a subsystem should be minimized."
   ]
  },
  {
   "cell_type": "code",
   "execution_count": 3,
   "metadata": {},
   "outputs": [
    {
     "name": "stdout",
     "output_type": "stream",
     "text": [
      "operation A\n",
      "operation B\n",
      "operation X\n",
      "operation Y\n"
     ]
    }
   ],
   "source": [
    "# Example of facade pattern\n",
    "class Facade:\n",
    "    \"\"\"\n",
    "    The Facade class provides a simple interface to the complex logic of one or\n",
    "    several subsystems. The Facade delegates the client requests to the\n",
    "    appropriate objects within the subsystem. The Facade is also responsible for\n",
    "    managing their lifecycle. All of this shields the client from the undesired\n",
    "    complexity of the subsystem.\n",
    "    \"\"\"\n",
    "\n",
    "    def __init__(self, subsystem1, subsystem2):\n",
    "        \"\"\"\n",
    "        Depending on your application's needs, you can provide the Facade with\n",
    "        existing subsystem objects or force the Facade to create them on its\n",
    "        own.\n",
    "        \"\"\"\n",
    "\n",
    "        self._subsystem1 = subsystem1 or Subsystem1()\n",
    "        self._subsystem2 = subsystem2 or Subsystem2()\n",
    "\n",
    "    def operation(self):\n",
    "        \"\"\"A simple opertation interface managing subsystems to conduct complex operations \"\"\"\n",
    "        self._subsystem1.operation_A()\n",
    "        self._subsystem1.operation_B()\n",
    "        self._subsystem2.operation_X()\n",
    "        self._subsystem2.operation_Y()        \n",
    "\n",
    "\n",
    "class Subsystem1:\n",
    "    \"\"\"\n",
    "    The Subsystem can accept requests either from the facade or client directly.\n",
    "    In any case, to the Subsystem, the Facade is yet another client, and it's\n",
    "    not a part of the Subsystem.\n",
    "    \"\"\"\n",
    "\n",
    "    def operation_A(self):\n",
    "        print(\"operation A\")\n",
    "\n",
    "    def operation_B(self):\n",
    "        print(\"operation B\")\n",
    "\n",
    "\n",
    "class Subsystem2:\n",
    "\n",
    "    def operation_X(self):\n",
    "        print(\"operation X\")\n",
    "        \n",
    "    def operation_Y(self):\n",
    "        print(\"operation Y\")\n",
    "\n",
    "\n",
    "if __name__ == \"__main__\":\n",
    "    # The client code may have some of the subsystem's objects already created.\n",
    "    # In this case, it might be worthwhile to initialize the Facade with these\n",
    "    # objects instead of letting the Facade create new instances.\n",
    "    subsystem1 = Subsystem1()\n",
    "    subsystem2 = Subsystem2()\n",
    "    facade = Facade(subsystem1, subsystem2)\n",
    "    facade.operation()"
   ]
  },
  {
   "cell_type": "code",
   "execution_count": 4,
   "metadata": {},
   "outputs": [
    {
     "name": "stdout",
     "output_type": "stream",
     "text": [
      "Prepare Pizza\n",
      "Get food from kitchen\n",
      "Delivery to 31 Queen Street\n"
     ]
    }
   ],
   "source": [
    "# Example of facade: a online order system\n",
    "class OnlineFacade():\n",
    "\n",
    "    def __init__(self):\n",
    "        \"\"\"It has subsystems\"\"\"\n",
    "        self._kitchen = Kitchen()\n",
    "        self._delivery = Delivery()\n",
    "    \n",
    "    def order(self, food, address):\n",
    "        \"\"\"Complex operations are hiden from the client\"\"\"\n",
    "        self._kitchen.prepare(food)\n",
    "        self._delivery.get_food()\n",
    "        self._delivery.delivery(address)\n",
    "\n",
    "\n",
    "class Kitchen():\n",
    "    \n",
    "    def prepare(self, food):\n",
    "        print(f\"Prepare {food}\")\n",
    "        \n",
    "class Delivery():\n",
    "    \n",
    "    def get_food(self):\n",
    "        print(\"Get food from kitchen\")\n",
    "        \n",
    "    def delivery(self, address):\n",
    "        print(f\"Delivery to {address}\")\n",
    "\n",
    "              \n",
    "if __name__ == \"__main__\":\n",
    "    \n",
    "    facade = OnlineFacade()\n",
    "    facade.order('Pizza', '31 Queen Street')"
   ]
  },
  {
   "cell_type": "markdown",
   "metadata": {},
   "source": [
    "## Decorator\n",
    "Decorator is a structural design pattern that lets you attach new behaviors to objects by placing these objects inside special wrapper objects that contain the behaviors"
   ]
  },
  {
   "cell_type": "code",
   "execution_count": 5,
   "metadata": {},
   "outputs": [
    {
     "name": "stdout",
     "output_type": "stream",
     "text": [
      "=== Original component ===\n",
      "Original Operation\n",
      "\n",
      "\n",
      "=== component decorated by DecoratorA===\n",
      "Original Operation\n",
      "Addional Operation A\n",
      "\n",
      "\n",
      "=== Decorated decorated by DecoratorB ===\n",
      "Original Operation\n",
      "Addional Operation B\n",
      "\n",
      "\n",
      "=== Decorated decorated by DecoratorA and DecoratorB ===\n",
      "Original Operation\n",
      "Addional Operation A\n",
      "Addional Operation B\n",
      "\n",
      "\n"
     ]
    }
   ],
   "source": [
    "# Example of Decorator pattern\n",
    "class Component():\n",
    "    \"\"\"\n",
    "    The Original Subject class defines the original opertions\n",
    "    \"\"\"\n",
    "\n",
    "    def operation(self):\n",
    "        print(\"Original Operation\")\n",
    "\n",
    "\n",
    "class Decorator(Component):\n",
    "    \"\"\"\n",
    "    Base Decorator inherit The Subject class in order to maintain the interfaces of the subject.\n",
    "    \"\"\"\n",
    "\n",
    "    def __init__(self, component):\n",
    "        \"\"\"\n",
    "        Store the original subject in order to keep a entry to the original opertion.\n",
    "        \"\"\"\n",
    "        self.component = component\n",
    "\n",
    "    def operation(self):\n",
    "        \"\"\"Override opertion, need to be implemented by concreated decorators\"\"\"\n",
    "        pass\n",
    "\n",
    "class ConcreteDecoratorA(Decorator):\n",
    "    \n",
    "    def operation(self):\n",
    "        \"\"\"\n",
    "        Implement concrete operation. This overide the opertion interface of its superclasses.\n",
    "        However the original opertional can be accessed via the stored component.opertion method.\n",
    "        \"\"\"\n",
    "        self.component.operation()\n",
    "        print(\"Addional Operation A\")\n",
    "        \n",
    "\n",
    "class ConcreteDecoratorB(Decorator):\n",
    "    \n",
    "    def operation(self):\n",
    "        self.component.operation()\n",
    "        print(\"Addional Operation B\")\n",
    "\n",
    "\n",
    "if __name__ == \"__main__\":\n",
    "    print('=== Original component ===')\n",
    "    obj = Component()\n",
    "    obj.operation()\n",
    "    print('\\n')\n",
    "    \n",
    "    print('=== component decorated by DecoratorA===')\n",
    "    obj = ConcreteDecoratorA(Component())\n",
    "    obj.operation()\n",
    "    print('\\n')\n",
    "\n",
    "    print('=== Decorated decorated by DecoratorB ===')\n",
    "    obj = ConcreteDecoratorB(Component())\n",
    "    obj.operation()\n",
    "    print('\\n')\n",
    "    \n",
    "    print('=== Decorated decorated by DecoratorA and DecoratorB ===')\n",
    "    obj = ConcreteDecoratorB(ConcreteDecoratorA(Component()))\n",
    "    obj.operation()\n",
    "    print('\\n')"
   ]
  },
  {
   "cell_type": "code",
   "execution_count": 6,
   "metadata": {},
   "outputs": [
    {
     "name": "stdout",
     "output_type": "stream",
     "text": [
      "=== Original function ===\n",
      "5\n",
      "=== Decorated function A===\n",
      "The result is: 5\n"
     ]
    }
   ],
   "source": [
    "# Function decorator\n",
    "def func(x, y):\n",
    "    return x + y\n",
    "\n",
    "def message_decorator(func):\n",
    "    def wrap(x, y):\n",
    "        return 'The result is: ' + str(func(x, y))\n",
    "    return wrap\n",
    "\n",
    "\n",
    "if __name__ == \"__main__\":\n",
    "    \n",
    "    x, y = 4, 1\n",
    "    \n",
    "    print('=== Original function ===')\n",
    "    print(func(x, y))\n",
    "\n",
    "    print('=== Decorated function A===')\n",
    "    func = message_decorator(func)\n",
    "    print(func(x, y))"
   ]
  },
  {
   "cell_type": "code",
   "execution_count": 7,
   "metadata": {},
   "outputs": [
    {
     "name": "stdout",
     "output_type": "stream",
     "text": [
      "10\n",
      "The result is: 10\n"
     ]
    }
   ],
   "source": [
    "# Function decorator in Python\n",
    "def mutiply(x, y):\n",
    "    return x * y\n",
    "\n",
    "\n",
    "print(mutiply(2, 5))\n",
    "\n",
    "\n",
    "@message_decorator\n",
    "def mutiply(x, y):\n",
    "    return x * y\n",
    "\n",
    "\n",
    "print(mutiply(2, 5))"
   ]
  },
  {
   "cell_type": "markdown",
   "metadata": {},
   "source": [
    "Comparison:\n",
    "  * Adapter changes the interface of an existing object but usually keeps its behaviors.\n",
    "  * Decorator enhances the existing behaviors without changing the interface."
   ]
  },
  {
   "cell_type": "markdown",
   "metadata": {},
   "source": [
    "## Bridge:\n",
    "Bridge is a structural design pattern that lets you split a large class or a set of closely related classes into two separate abstraction and implementation, which can be developed independently of each other."
   ]
  },
  {
   "cell_type": "code",
   "execution_count": 8,
   "metadata": {},
   "outputs": [
    {
     "name": "stdout",
     "output_type": "stream",
     "text": [
      "AbstractionA using Concrete Implementation A\n",
      "AbstractionA using Concrete Implementation B\n",
      "AbstractionB using Concrete Implementation A\n",
      "AbstractionB using Concrete Implementation B\n"
     ]
    }
   ],
   "source": [
    "# Example of bridge pattern\n",
    "class Abstraction():\n",
    "    \"\"\"Define a generate interface abstraction\"\"\"\n",
    "    def __init__(self, implementation):\n",
    "        self.implementation = implementation\n",
    "\n",
    "    def operation(self):\n",
    "        pass\n",
    "\n",
    "class AbstractionA(Abstraction):\n",
    "    def operation(self):\n",
    "        return \"AbstractionA using \" + self.implementation.concrete_operation()\n",
    "    \n",
    "\n",
    "class AbstractionB(Abstraction):\n",
    "    def operation(self) -> str:\n",
    "        return \"AbstractionB using \" + self.implementation.concrete_operation()\n",
    "\n",
    "\n",
    "class ImplementationA(object):\n",
    "    def concrete_operation(self):\n",
    "        return \"Concrete Implementation A\"\n",
    "\n",
    "\n",
    "class ImplementationB(object):\n",
    "    def concrete_operation(self):\n",
    "        return \"Concrete Implementation B\"\n",
    "\n",
    "\n",
    "if __name__ == '__main__':\n",
    "\n",
    "    implementation = ImplementationA()\n",
    "    abstraction = AbstractionA\n",
    "    app = abstraction(implementation)\n",
    "    print(app.operation())\n",
    "\n",
    "\n",
    "    implementation = ImplementationB()\n",
    "    abstraction = AbstractionA\n",
    "    app = abstraction(implementation)\n",
    "    print(app.operation())\n",
    "\n",
    "\n",
    "    implementation = ImplementationA()\n",
    "    abstraction = AbstractionB\n",
    "    app = abstraction(implementation)\n",
    "    print(app.operation())\n",
    "\n",
    "\n",
    "    implementation = ImplementationB()\n",
    "    abstraction = AbstractionB\n",
    "    app = abstraction(implementation)\n",
    "    print(app.operation())"
   ]
  },
  {
   "cell_type": "markdown",
   "metadata": {},
   "source": [
    "## Composite\n",
    "Composite is a Conceptual design pattern that allows composing objects into a tree-like structure and work with the it as if it was a singular object."
   ]
  },
  {
   "cell_type": "code",
   "execution_count": 9,
   "metadata": {
    "scrolled": true
   },
   "outputs": [
    {
     "name": "stdout",
     "output_type": "stream",
     "text": [
      "=== A simple component\n",
      "Operation of comp1\n",
      "\n",
      "\n",
      "=== Component with tree structure subcomponents\n",
      "Operation of comp2\n",
      "Operation of comp1\n",
      "Operation of comp2\n",
      "Operation of comp3\n",
      "Operation of main\n"
     ]
    }
   ],
   "source": [
    "# Example of composite pattern\n",
    "class Component(object):\n",
    "\n",
    "    def __init__(self, name):\n",
    "        self.name = name\n",
    "        self._subcomponents = []\n",
    "        \n",
    "    def add(self, *args):\n",
    "        for comp in args:\n",
    "            self._subcomponents.append(comp)\n",
    "\n",
    "    def operation(self):\n",
    "        for component in self._subcomponents:\n",
    "            component.operation()\n",
    "        print(f'Operation of {self.name}')\n",
    "\n",
    "\n",
    "if __name__ == \"__main__\":\n",
    "\n",
    "    print('=== A simple component')\n",
    "    comp1 = Component('comp1')\n",
    "    comp1.operation()\n",
    "    print('\\n')\n",
    "    \n",
    "    print('=== Component with tree structure subcomponents')\n",
    "    comp2 = Component('comp2')\n",
    "    \n",
    "    comp3 = Component('comp3')\n",
    "    comp3.add(comp1, comp2)\n",
    "    \n",
    "    comp = Component('main')\n",
    "    comp.add(comp2, comp3)\n",
    "\n",
    "    comp.operation()"
   ]
  },
  {
   "cell_type": "markdown",
   "metadata": {},
   "source": [
    "## Flyweight\n",
    "Flyweight allows programs to support vast quantities of objects by keeping their memory consumption low. Flyweight saves RAM by caching the same data used by different objects."
   ]
  },
  {
   "cell_type": "code",
   "execution_count": 10,
   "metadata": {},
   "outputs": [
    {
     "name": "stdout",
     "output_type": "stream",
     "text": [
      "Infomation{'gender': 'M', 'age': 18, 'name': 'Alan'}\n",
      "Infomation{'gender': 'M', 'age': 18, 'name': 'Bob'}\n"
     ]
    }
   ],
   "source": [
    "# Example of flyweight pattern\n",
    "class Flyweight():\n",
    "    \"\"\"\n",
    "    The Flyweight stores a common portion of the state (also called intrinsic\n",
    "    state) that belongs to multiple real business entities. The Flyweight\n",
    "    accepts the rest of the state (extrinsic state, unique for each entity) via\n",
    "    its method parameters.\n",
    "    \"\"\"\n",
    "\n",
    "    def __init__(self, shared_state):\n",
    "        self._shared_state = shared_state\n",
    "\n",
    "    def operation(self, unique_state):\n",
    "        all_state = {**self._shared_state, **unique_state}\n",
    "        print(f\"Infomation\" + str(all_state))\n",
    "\n",
    "\n",
    "class FlyweightFactory():\n",
    "    \"\"\"\n",
    "    The Flyweight Factory creates and manages the Flyweight objects. It ensures\n",
    "    that flyweights are shared correctly. When the client requests a flyweight,\n",
    "    the factory either returns an existing instance or creates a new one, if it\n",
    "    doesn't exist yet.\n",
    "    \"\"\"\n",
    "\n",
    "    _flyweights = {}\n",
    "            \n",
    "    def get_key(self, state):\n",
    "        \"\"\"\n",
    "        Returns a Flyweight's string hash for a given state.\n",
    "        \"\"\"\n",
    "        return \"_\".join(sorted(state))\n",
    "\n",
    "    def get_flyweight(self, shared_state):\n",
    "        \"\"\"\n",
    "        Returns an existing Flyweight with a given state or creates a new one.\n",
    "        \"\"\"\n",
    "\n",
    "        key = self.get_key(shared_state)\n",
    "        if key not in self._flyweights:\n",
    "            self._flyweights[key] = Flyweight(shared_state)\n",
    "\n",
    "        return self._flyweights[key]\n",
    "\n",
    "    \n",
    "if __name__ == \"__main__\":\n",
    "    factory = FlyweightFactory()\n",
    "    student_flyweight = factory.get_flyweight({'gender': 'M', 'age': 18})\n",
    "    student_flyweight.operation({'name': 'Alan'})\n",
    "    \n",
    "    student_flyweight = factory.get_flyweight({'gender': 'M', 'age': 18})\n",
    "    student_flyweight.operation({'name': 'Bob'})"
   ]
  },
  {
   "cell_type": "markdown",
   "metadata": {},
   "source": [
    "# <p style=\"text-align: center;\"> Thank you! </p>"
   ]
  }
 ],
 "metadata": {
  "kernelspec": {
   "display_name": "Python 3",
   "language": "python",
   "name": "python3"
  },
  "language_info": {
   "codemirror_mode": {
    "name": "ipython",
    "version": 3
   },
   "file_extension": ".py",
   "mimetype": "text/x-python",
   "name": "python",
   "nbconvert_exporter": "python",
   "pygments_lexer": "ipython3",
   "version": "3.6.5"
  },
  "varInspector": {
   "cols": {
    "lenName": 16,
    "lenType": 16,
    "lenVar": 40
   },
   "kernels_config": {
    "python": {
     "delete_cmd_postfix": "",
     "delete_cmd_prefix": "del ",
     "library": "var_list.py",
     "varRefreshCmd": "print(var_dic_list())"
    },
    "r": {
     "delete_cmd_postfix": ") ",
     "delete_cmd_prefix": "rm(",
     "library": "var_list.r",
     "varRefreshCmd": "cat(var_dic_list()) "
    }
   },
   "types_to_exclude": [
    "module",
    "function",
    "builtin_function_or_method",
    "instance",
    "_Feature"
   ],
   "window_display": false
  }
 },
 "nbformat": 4,
 "nbformat_minor": 2
}
