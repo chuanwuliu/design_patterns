{
 "cells": [
  {
   "cell_type": "markdown",
   "metadata": {},
   "source": [
    "## Software design patterns:\n",
    "  * Creational patterns\n",
    "    - Creational design patterns that deal with object creation mechanisms,\n",
    "    which increase flexibility and reuse of existing code\n",
    "  * Structural patterns\n",
    "    - Structural patterns explain how to assemble objects and classes into larger structures,\n",
    "    while keeping this structures flexible and efficient.\n",
    "  * Behavioral patterns:\n",
    "    - Behavioral design patterns are concerned with algorithms and the assignment of responsibilities between objects"
   ]
  },
  {
   "cell_type": "markdown",
   "metadata": {},
   "source": [
    "### Below are examples to creational patterns"
   ]
  },
  {
   "cell_type": "markdown",
   "metadata": {},
   "source": [
    "### 1. Factory pattern:\n",
    "   * provides an interface for creating objects in a superclass, but allows subclasses to alter the type of objects that will be created.\n",
    "   \n",
    "   Note:The Factory Method pattern suggests that you replace direct object construction calls (using the new operator) with calls to a common interface (factory method). Don’t worry: the objects are still created via the new operator, but it’s being called from within the factory method. Objects returned by a factory method are often referred to as “products.”"
   ]
  },
  {
   "cell_type": "code",
   "execution_count": 1,
   "metadata": {},
   "outputs": [
    {
     "name": "stdout",
     "output_type": "stream",
     "text": [
      "Racecar driving.\n"
     ]
    }
   ],
   "source": [
    "# Factory pattern Example 1: Subclass redefine method\n",
    "class Car(object):\n",
    "    \n",
    "    def drive(self):\n",
    "        pass\n",
    "    \n",
    "    @staticmethod\n",
    "    def factory(type):\n",
    "        if type == \"Racecar\":\n",
    "            return Racecar()\n",
    "        if type == \"Van\":\n",
    "            return Van()\n",
    "\n",
    "class Racecar(Car):\n",
    "    def drive(self):\n",
    "        print(\"Racecar driving.\")\n",
    "\n",
    "class Van(Car):\n",
    "    def drive(self):\n",
    "        print(\"Van driving.\")\n",
    "\n",
    "# Create object using factory.\n",
    "obj = Car.factory(\"Racecar\")\n",
    "obj.drive()"
   ]
  },
  {
   "cell_type": "code",
   "execution_count": 2,
   "metadata": {},
   "outputs": [
    {
     "name": "stdout",
     "output_type": "stream",
     "text": [
      "RaceCar driving at 100  km/h\n"
     ]
    }
   ],
   "source": [
    "# Factory pattern Example 2:Subclass redefine attribute\n",
    "class Car(object):\n",
    "    \n",
    "    def __init__(self, name, speed):\n",
    "        self.name = name\n",
    "        self.speed = speed\n",
    "    \n",
    "    def drive(self):\n",
    "        print(self.name + ' driving at', self.speed, ' km/h')\n",
    "    \n",
    "    @staticmethod\n",
    "    def factory(type):\n",
    "        if type == \"Racecar\":\n",
    "            return Racecar()\n",
    "        if type == \"Van\":\n",
    "            return Van()\n",
    "\n",
    "class Racecar(Car):\n",
    "    def __init__(self):\n",
    "        self.name = 'RaceCar'\n",
    "        self.speed = '100'\n",
    "\n",
    "class Van(Car):\n",
    "    def __init__(self):\n",
    "        self.name = 'Van'\n",
    "        self.speed = '60'\n",
    "\n",
    "# Create object using factory.\n",
    "obj = Car.factory(\"Racecar\")\n",
    "obj.drive()"
   ]
  },
  {
   "cell_type": "markdown",
   "metadata": {},
   "source": [
    "### 2. Abstract Factory:\n",
    "  * The abstract factory pattern provides a way to encapsulate a group of individual factories that have a common theme without specifying their concrete classes. Use of this pattern makes it possible to interchange concrete implementations without changing the code that uses them, even at runtime.\n",
    "<!---\n",
    "from IPython.display import Image\n",
    "Image(\"yinyang.jpg\", width=400)\n",
    "--->\n",
    "<center><img src = \"abstract_factory.png\"  width=\"700\"></center>"
   ]
  },
  {
   "cell_type": "code",
   "execution_count": 3,
   "metadata": {},
   "outputs": [
    {
     "name": "stdout",
     "output_type": "stream",
     "text": [
      "Automatic Van driving\n"
     ]
    }
   ],
   "source": [
    "licence = 'automatic'\n",
    "\n",
    "class Car(object):\n",
    "    \n",
    "    def drive(self):\n",
    "        pass\n",
    "    \n",
    "    @staticmethod\n",
    "    def factory(type):\n",
    "        if licence == 'automatic':\n",
    "            return Automatic.factory(type)\n",
    "        if licence == 'manual':\n",
    "            return Manual.factory(type)\n",
    "\n",
    "### Abstract Factory pattern:\n",
    "class ManualVan():\n",
    "    def drive(self):\n",
    "        print('Manual Van driving')\n",
    "        \n",
    "class AutomaticVan():\n",
    "    def drive(self):\n",
    "        print('Automatic Van driving')\n",
    "        \n",
    "class ManualRacecar():\n",
    "    def drive(self):\n",
    "        print('Manual RaceCar driving')\n",
    "        \n",
    "class AutomaticRacecar():\n",
    "    def drive(self):\n",
    "        print('Automatic Van driving')\n",
    "        \n",
    "class Automatic(Car):\n",
    "    @staticmethod\n",
    "    def factory(type):\n",
    "        if type == \"Racecar\":\n",
    "            return AutomaticRacecar()\n",
    "        if type == \"Van\":\n",
    "            return AutomaticVan()\n",
    "        \n",
    "class Manual(Car):\n",
    "    @staticmethod\n",
    "    def factory(type):\n",
    "        if type == \"Racecar\":\n",
    "            return ManualRacecar()\n",
    "        if type == \"Van\":\n",
    "            return ManualVan()\n",
    "        \n",
    "obj = Car.factory(\"Racecar\")\n",
    "obj.drive()"
   ]
  },
  {
   "cell_type": "markdown",
   "metadata": {},
   "source": [
    "### 3 Builder:\n",
    "  * The intent of the Builder design pattern is to separate the construction of a complex object from its representation\n",
    "<center><img src = \"builder_pattern.png\"  width=\"500\"></center>"
   ]
  },
  {
   "cell_type": "code",
   "execution_count": 4,
   "metadata": {},
   "outputs": [
    {
     "data": {
      "text/plain": [
       "'A Red car with 3L engine, 4 wheels and 2 seats is moving.'"
      ]
     },
     "execution_count": 4,
     "metadata": {},
     "output_type": "execute_result"
    }
   ],
   "source": [
    "class Car(object):\n",
    "    def __init__(self):\n",
    "        self.engine = None\n",
    "        self.wheels = None\n",
    "        self.seats = None\n",
    "        self.color = None\n",
    "\n",
    "    def drive(self):\n",
    "        return \"A {0} car with {1} engine, {2} wheels and {3} seats is moving.\".format(self.color, self.engine, self.wheels, self.seats)\n",
    "\n",
    "\n",
    "class CarBuilder(object):\n",
    "    def __init__(self):\n",
    "        self.car = Car()\n",
    "\n",
    "    def set_engine(self, value):\n",
    "        self.car.engine = value\n",
    "        \n",
    "    def set_wheels(self, value):\n",
    "        self.car.wheels = value\n",
    "        return self\n",
    "\n",
    "    def set_seats(self, value):\n",
    "        self.car.seats = value\n",
    "        return self\n",
    "\n",
    "    def set_color(self, value):\n",
    "        self.car.color = value\n",
    "        return self\n",
    "    \n",
    "    def get_product(self):\n",
    "        return self.car\n",
    "\n",
    "\n",
    "class Director(object):\n",
    "    \n",
    "    def __init__(self, builder):\n",
    "        self.builder = builder\n",
    "        \n",
    "    def buildracecar(self):\n",
    "        self.builder.set_engine('3L')\n",
    "        self.builder.set_wheels(4)\n",
    "        self.builder.set_seats(2)\n",
    "        self.builder.set_color(\"Red\")\n",
    "        return builder.get_product()\n",
    "        \n",
    "    def buildvan(self):\n",
    "        self.builder.set_engine('2L')\n",
    "        self.builder.set_wheels(4)\n",
    "        self.builder.set_seats(5)\n",
    "        self.builder.set_color(\"white\")\n",
    "        return builder.get_product()\n",
    "\n",
    "builder = CarBuilder()\n",
    "director = Director(builder)\n",
    "racecar = director.buildracecar()\n",
    "racecar.drive()\n",
    "# van = director.buildvan()\n",
    "# van.drive()"
   ]
  },
  {
   "cell_type": "markdown",
   "metadata": {},
   "source": [
    "#### Director and Builder:\n",
    "    A client can delegate the assembly to the director class, which knows how to use a builder to construct several of the most popular models of car. The Director defines the order in which to call construction steps. The director delegates the each construction step to a separate builder object that it has been given to the Director by the Client.\n",
    "<center><img src = \"builder-comic.png\"  width=\"500\"></center>"
   ]
  },
  {
   "cell_type": "code",
   "execution_count": 5,
   "metadata": {},
   "outputs": [
    {
     "data": {
      "text/plain": [
       "'A Shining Red car with 3L Turbo Charged engine, 4 wheels and 2 seats is moving.'"
      ]
     },
     "execution_count": 5,
     "metadata": {},
     "output_type": "execute_result"
    }
   ],
   "source": [
    "class AdvancedCarBuilder(object):\n",
    "    def __init__(self):\n",
    "        self.car = Car()\n",
    "\n",
    "    def set_engine(self, value):\n",
    "        self.car.engine = value + \" Turbo Charged\"\n",
    "        \n",
    "    def set_wheels(self, value):\n",
    "        self.car.wheels = value \n",
    "        return self\n",
    "\n",
    "    def set_seats(self, value):\n",
    "        self.car.seats = value\n",
    "        return self\n",
    "\n",
    "    def set_color(self, value):\n",
    "        self.car.color = 'Shining ' + value\n",
    "        return self\n",
    "    \n",
    "    def get_product(self):\n",
    "        return self.car\n",
    "\n",
    "builder = AdvancedCarBuilder()\n",
    "director = Director(builder)\n",
    "racecar = director.buildracecar()\n",
    "racecar.drive()"
   ]
  },
  {
   "cell_type": "markdown",
   "metadata": {},
   "source": [
    "### 4. Prototype:\n",
    "  * A creational design pattern that lets you copy existing objects without making your code dependent on their classes.\n",
    "  <center><img src = \"prototype-comic.png\"  width=\"500\"></center>"
   ]
  },
  {
   "cell_type": "code",
   "execution_count": 6,
   "metadata": {},
   "outputs": [
    {
     "name": "stdout",
     "output_type": "stream",
     "text": [
      "Racecar driving.\n"
     ]
    }
   ],
   "source": [
    "# Question 1: How to make a exact copy of a class?\n",
    "# Factory pattern Example 1: Subclass redefine method\n",
    "class Car(object):\n",
    "    \n",
    "    def drive(self):\n",
    "        pass\n",
    "    \n",
    "    def clone(self, color=None):\n",
    "        import copy\n",
    "        obj = copy.copy(self)\n",
    "        self.color = color\n",
    "        return self\n",
    "    \n",
    "    @staticmethod\n",
    "    def factory(type):\n",
    "        if type == \"Racecar\":\n",
    "            return Racecar().clone()\n",
    "        if type == \"Van\":\n",
    "            return Van().clone()\n",
    "        \n",
    "class Racecar(Car):\n",
    "    def drive(self):\n",
    "        print(\"Racecar driving.\")\n",
    "        \n",
    "class Van(Car):\n",
    "    def drive(self):\n",
    "        print(\"Van driving.\")\n",
    "        \n",
    "\n",
    "\n",
    "# Create object using factory.\n",
    "obj = Car.factory(\"Racecar\")\n",
    "obj.drive()"
   ]
  },
  {
   "cell_type": "code",
   "execution_count": 7,
   "metadata": {},
   "outputs": [
    {
     "name": "stdout",
     "output_type": "stream",
     "text": [
      "Racecar driving.\n"
     ]
    }
   ],
   "source": [
    "obj2 = obj.clone(color='red')\n",
    "#obj2.color\n",
    "obj2.drive()"
   ]
  },
  {
   "cell_type": "markdown",
   "metadata": {},
   "source": [
    "### 5. Singleton\n",
    "  *  restricts the instantiation of a class to one \"single\" instance. This is useful when exactly one object is needed to coordinate actions across the system. A implementation if the singleton pattern must:\n",
    "  - ensure that only one instance of the singleton class ever exists\n",
    "  - provide global access to that instance.\n",
    "  <center><img src = \"singleton-comic.png\"  width=\"700\"></center>"
   ]
  },
  {
   "cell_type": "code",
   "execution_count": 8,
   "metadata": {},
   "outputs": [
    {
     "name": "stdout",
     "output_type": "stream",
     "text": [
      "Alan\n",
      "True\n"
     ]
    }
   ],
   "source": [
    "class Singleton(object):\n",
    "    _instance = None\n",
    "    \n",
    "    def __new__(cls, *args, **kwargs):\n",
    "        if Singleton._instance is None:\n",
    "            obj = object.__new__(cls)\n",
    "            Singleton._instance = obj\n",
    "        else:\n",
    "            obj = Singleton._instance\n",
    "        return obj\n",
    "            \n",
    "s1 = Singleton()\n",
    "s1.name = 'Alan'\n",
    "s2 = Singleton()\n",
    "print(s2.name)\n",
    "print(s1 is s2)"
   ]
  },
  {
   "cell_type": "code",
   "execution_count": null,
   "metadata": {},
   "outputs": [],
   "source": []
  }
 ],
 "metadata": {
  "kernelspec": {
   "display_name": "Python 3",
   "language": "python",
   "name": "python3"
  },
  "language_info": {
   "codemirror_mode": {
    "name": "ipython",
    "version": 3
   },
   "file_extension": ".py",
   "mimetype": "text/x-python",
   "name": "python",
   "nbconvert_exporter": "python",
   "pygments_lexer": "ipython3",
   "version": "3.6.5"
  },
  "varInspector": {
   "cols": {
    "lenName": 16,
    "lenType": 16,
    "lenVar": 40
   },
   "kernels_config": {
    "python": {
     "delete_cmd_postfix": "",
     "delete_cmd_prefix": "del ",
     "library": "var_list.py",
     "varRefreshCmd": "print(var_dic_list())"
    },
    "r": {
     "delete_cmd_postfix": ") ",
     "delete_cmd_prefix": "rm(",
     "library": "var_list.r",
     "varRefreshCmd": "cat(var_dic_list()) "
    }
   },
   "types_to_exclude": [
    "module",
    "function",
    "builtin_function_or_method",
    "instance",
    "_Feature"
   ],
   "window_display": false
  }
 },
 "nbformat": 4,
 "nbformat_minor": 2
}
